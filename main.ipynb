{
 "cells": [
  {
   "cell_type": "markdown",
   "id": "efcee40faf7990de",
   "metadata": {},
   "source": [
    "# Volatility Project by Jakub and Timotej"
   ]
  },
  {
   "cell_type": "markdown",
   "id": "c750e97b2830bfd2",
   "metadata": {},
   "source": [
    "If you need to install any of those libraries, just uncomment and run the cell below. Those are the ones used in our project."
   ]
  },
  {
   "cell_type": "markdown",
   "id": "efe8ea1a645145fb",
   "metadata": {},
   "source": []
  },
  {
   "cell_type": "code",
   "id": "1d38d80a483ebe7d",
   "metadata": {
    "ExecuteTime": {
     "end_time": "2025-02-02T11:39:31.362592Z",
     "start_time": "2025-02-02T11:39:31.358177Z"
    }
   },
   "source": [],
   "outputs": [],
   "execution_count": null
  },
  {
   "cell_type": "code",
   "id": "19176fbe66926744",
   "metadata": {
    "ExecuteTime": {
     "end_time": "2025-02-02T11:41:24.616391Z",
     "start_time": "2025-02-02T11:41:24.608796Z"
    }
   },
   "source": [
    "#!pip install pandas\n"
   ],
   "outputs": [],
   "execution_count": 489
  },
  {
   "cell_type": "markdown",
   "id": "be16b65f9fb4d62a",
   "metadata": {},
   "source": [
    "Importing libraries."
   ]
  },
  {
   "cell_type": "code",
   "id": "643253c38435625c",
   "metadata": {
    "ExecuteTime": {
     "end_time": "2025-02-02T11:41:24.865005Z",
     "start_time": "2025-02-02T11:41:24.861444Z"
    }
   },
   "source": [
    "import pandas as pd\n",
    "import numpy as np\n",
    "import matplotlib.pyplot as plt\n",
    "import warnings"
   ],
   "outputs": [],
   "execution_count": 490
  },
  {
   "cell_type": "code",
   "id": "bff5bc1cac92f318",
   "metadata": {
    "ExecuteTime": {
     "end_time": "2025-02-02T11:41:25.388259Z",
     "start_time": "2025-02-02T11:41:25.073116Z"
    }
   },
   "source": [
    "import DataReader as rd\n",
    "import importlib\n",
    "importlib.reload(rd)\n",
    "warnings.filterwarnings(\"ignore\", category=UserWarning, module=\"openpyxl\")\n",
    "\n",
    "reader = rd.DataReader()\n",
    "data = reader.ReadData()\n"
   ],
   "outputs": [
    {
     "name": "stdout",
     "output_type": "stream",
     "text": [
      "Base path: /Users/jakubmichalski/IES/Volatility-project\n",
      "Loaded VIX from VIX_History.csv\n",
      "Loaded SOFR from SOFR.xlsx\n",
      "Loaded GDP from GDP.xlsx\n",
      "Loaded GNI from GNI.xlsx\n",
      "Loaded GNP from GNP.xlsx\n",
      "Loaded Unemployment from Unemployment.xlsx\n",
      "Loaded CPI from CPI.xlsx\n",
      "Loaded PPI from PPI.xlsx\n"
     ]
    }
   ],
   "execution_count": 491
  },
  {
   "cell_type": "code",
   "id": "fd70009cd1c1e042",
   "metadata": {
    "ExecuteTime": {
     "end_time": "2025-02-02T11:41:25.401865Z",
     "start_time": "2025-02-02T11:41:25.393908Z"
    }
   },
   "source": [
    "import DataPreprocessor as dp\n",
    "#potom importlib odstranit\n",
    "importlib.reload(dp)\n",
    "\n",
    "dataPreprocessor = dp.DataPreprocessor(data)\n",
    "\"\"\"\n",
    "\"VIX\": (\"VIX_History.csv\", \"DATE\"),\n",
    "                \"TenYear\": (\"10y.xlsx\", \"Date\"),\n",
    "                \"SOFR\": (\"SOFR.xlsx\", \"Effective Date\"),\n",
    "                \"GDP\": (\"GDP.xlsx\", \"GDP Final*\"),\n",
    "                \"GNI\": (\"GNI.xlsx\", \"Period\"),\n",
    "                \"GNP\": (\"GNP.xlsx\", \"Period\"),\n",
    "                \"Unemployment\": (\"Unemployment.xlsx\", \"Original Release Date\"),\n",
    "                \"CPI\": (\"CPI.xlsx\", \"Original Release Date\"),\n",
    "                \"PPI\n",
    "                \"\"\""
   ],
   "outputs": [
    {
     "data": {
      "text/plain": [
       "'\\n\"VIX\": (\"VIX_History.csv\", \"DATE\"),\\n                \"TenYear\": (\"10y.xlsx\", \"Date\"),\\n                \"SOFR\": (\"SOFR.xlsx\", \"Effective Date\"),\\n                \"GDP\": (\"GDP.xlsx\", \"GDP Final*\"),\\n                \"GNI\": (\"GNI.xlsx\", \"Period\"),\\n                \"GNP\": (\"GNP.xlsx\", \"Period\"),\\n                \"Unemployment\": (\"Unemployment.xlsx\", \"Original Release Date\"),\\n                \"CPI\": (\"CPI.xlsx\", \"Original Release Date\"),\\n                \"PPI\\n                '"
      ]
     },
     "execution_count": 492,
     "metadata": {},
     "output_type": "execute_result"
    }
   ],
   "execution_count": 492
  },
  {
   "cell_type": "code",
   "id": "1c23e0485a0434b1",
   "metadata": {
    "ExecuteTime": {
     "end_time": "2025-02-02T11:41:25.488285Z",
     "start_time": "2025-02-02T11:41:25.471681Z"
    }
   },
   "source": "dataset = dataPreprocessor.SetSameInterval()",
   "outputs": [
    {
     "name": "stdout",
     "output_type": "stream",
     "text": [
      "✅ VIX data cleaned: Each month's value now corresponds to the last trading day of that month!\n",
      "117\n"
     ]
    }
   ],
   "execution_count": 493
  },
  {
   "cell_type": "code",
   "id": "31ec2870e3c5730a",
   "metadata": {
    "ExecuteTime": {
     "end_time": "2025-02-02T11:39:32.847862Z",
     "start_time": "2025-02-02T11:39:32.845938Z"
    }
   },
   "source": [],
   "outputs": [],
   "execution_count": null
  },
  {
   "cell_type": "code",
   "execution_count": null,
   "id": "183612129d398efd",
   "metadata": {
    "ExecuteTime": {
     "end_time": "2025-02-02T10:13:15.012305Z",
     "start_time": "2025-02-02T10:13:15.010886Z"
    }
   },
   "outputs": [],
   "source": []
  },
  {
   "cell_type": "code",
   "execution_count": null,
   "id": "42d771f6160a82b5",
   "metadata": {},
   "outputs": [],
   "source": []
  }
 ],
 "metadata": {
  "kernelspec": {
   "display_name": "Python 3 (ipykernel)",
   "language": "python",
   "name": "python3"
  },
  "language_info": {
   "codemirror_mode": {
    "name": "ipython",
    "version": 3
   },
   "file_extension": ".py",
   "mimetype": "text/x-python",
   "name": "python",
   "nbconvert_exporter": "python",
   "pygments_lexer": "ipython3",
   "version": "3.12.4"
  }
 },
 "nbformat": 4,
 "nbformat_minor": 5
}

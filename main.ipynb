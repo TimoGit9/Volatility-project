{
 "cells": [
  {
   "metadata": {},
   "cell_type": "markdown",
   "source": "# Volatility Project by Jakub and Timotej",
   "id": "efcee40faf7990de"
  },
  {
   "metadata": {},
   "cell_type": "markdown",
   "source": "If you need to install any of those libraries, just uncomment and run the cell below. Those are the ones used in our project.",
   "id": "c750e97b2830bfd2"
  },
  {
   "metadata": {
    "ExecuteTime": {
     "end_time": "2025-01-23T22:18:16.684710Z",
     "start_time": "2025-01-23T22:18:16.679432Z"
    }
   },
   "cell_type": "code",
   "source": "#!pip install pandas\n",
   "id": "19176fbe66926744",
   "outputs": [],
   "execution_count": 21
  },
  {
   "metadata": {},
   "cell_type": "markdown",
   "source": "Importing libraries.",
   "id": "be16b65f9fb4d62a"
  },
  {
   "metadata": {
    "ExecuteTime": {
     "end_time": "2025-01-26T18:39:35.345945Z",
     "start_time": "2025-01-26T18:39:35.343208Z"
    }
   },
   "cell_type": "code",
   "source": [
    "import pandas as pd\n",
    "import numpy as np\n",
    "import matplotlib.pyplot as plt\n",
    "import warnings"
   ],
   "id": "643253c38435625c",
   "outputs": [],
   "execution_count": 31
  },
  {
   "metadata": {
    "ExecuteTime": {
     "end_time": "2025-01-26T18:39:36.205918Z",
     "start_time": "2025-01-26T18:39:35.920624Z"
    }
   },
   "cell_type": "code",
   "source": [
    "import DataReader as rd\n",
    "warnings.filterwarnings(\"ignore\", category=UserWarning, module=\"openpyxl\")\n",
    "\n",
    "reader = rd.DataReader()\n",
    "data = reader.ReadData()\n"
   ],
   "id": "bff5bc1cac92f318",
   "outputs": [
    {
     "name": "stdout",
     "output_type": "stream",
     "text": [
      "Base path: /Users/jakubmichalski/IES/Volatility-project\n",
      "Loaded VIX from VIX_History.csv\n",
      "Loaded TenYear from 10y.xlsx\n",
      "Loaded SOFR from SOFR.xlsx\n",
      "Loaded GDP from GDP.xlsx\n",
      "Loaded GNI from GNI.xlsx\n",
      "Loaded GNP from GNP.xlsx\n",
      "Loaded Unemployment from Unemployment.xlsx\n",
      "Loaded CPI from CPI.xlsx\n",
      "Loaded PPI from PPI.xlsx\n"
     ]
    }
   ],
   "execution_count": 32
  },
  {
   "metadata": {
    "ExecuteTime": {
     "end_time": "2025-01-26T18:58:03.410357Z",
     "start_time": "2025-01-26T18:58:03.402335Z"
    }
   },
   "cell_type": "code",
   "source": [
    "import DataPreprocessor as dp\n",
    "#potom importlib odstranit\n",
    "import importlib\n",
    "importlib.reload(dp)\n",
    "\n",
    "dataPreprocessor = dp.DataPreprocessor(data)\n",
    "\"\"\"\n",
    "\"VIX\": (\"VIX_History.csv\", \"DATE\"),\n",
    "                \"TenYear\": (\"10y.xlsx\", \"Date\"),\n",
    "                \"SOFR\": (\"SOFR.xlsx\", \"Effective Date\"),\n",
    "                \"GDP\": (\"GDP.xlsx\", \"GDP Final*\"),\n",
    "                \"GNI\": (\"GNI.xlsx\", \"Period\"),\n",
    "                \"GNP\": (\"GNP.xlsx\", \"Period\"),\n",
    "                \"Unemployment\": (\"Unemployment.xlsx\", \"Original Release Date\"),\n",
    "                \"CPI\": (\"CPI.xlsx\", \"Original Release Date\"),\n",
    "                \"PPI\n",
    "                \"\"\"\n",
    "dataPreprocessor.Show(\"Unemployment\")"
   ],
   "id": "fd70009cd1c1e042",
   "outputs": [
    {
     "name": "stdout",
     "output_type": "stream",
     "text": [
      "     Period                Date  First Release\n",
      "0  Dec 2024 2025-01-10 14:30:00            4.1\n",
      "1  Nov 2024 2024-12-06 14:30:00            4.2\n",
      "2  Oct 2024 2024-11-01 13:30:00            4.1\n",
      "3  Sep 2024 2024-10-04 14:30:00            4.1\n",
      "4  Aug 2024 2024-09-06 14:30:00            4.2\n"
     ]
    }
   ],
   "execution_count": 65
  },
  {
   "metadata": {
    "ExecuteTime": {
     "end_time": "2025-01-26T18:52:23.152465Z",
     "start_time": "2025-01-26T18:52:23.146241Z"
    }
   },
   "cell_type": "code",
   "source": "",
   "id": "1c23e0485a0434b1",
   "outputs": [
    {
     "name": "stdout",
     "output_type": "stream",
     "text": [
      "/Users/jakubmichalski/IES/Volatility-project\n"
     ]
    }
   ],
   "execution_count": 58
  },
  {
   "metadata": {
    "ExecuteTime": {
     "end_time": "2025-01-26T18:41:29.159946Z",
     "start_time": "2025-01-26T18:41:29.157940Z"
    }
   },
   "cell_type": "code",
   "source": "",
   "id": "a15e377e1693ddd",
   "outputs": [],
   "execution_count": null
  },
  {
   "metadata": {},
   "cell_type": "code",
   "outputs": [],
   "execution_count": null,
   "source": "",
   "id": "ee7db3f5cd265c7a"
  }
 ],
 "metadata": {
  "kernelspec": {
   "display_name": "Python 3",
   "language": "python",
   "name": "python3"
  },
  "language_info": {
   "codemirror_mode": {
    "name": "ipython",
    "version": 2
   },
   "file_extension": ".py",
   "mimetype": "text/x-python",
   "name": "python",
   "nbconvert_exporter": "python",
   "pygments_lexer": "ipython2",
   "version": "2.7.6"
  }
 },
 "nbformat": 4,
 "nbformat_minor": 5
}

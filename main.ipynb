{
 "cells": [
  {
   "cell_type": "markdown",
   "id": "efcee40faf7990de",
   "metadata": {},
   "source": [
    "# Volatility Project by Jakub and Timotej"
   ]
  },
  {
   "cell_type": "markdown",
   "id": "c750e97b2830bfd2",
   "metadata": {},
   "source": [
    "If you need to install any of those libraries, just uncomment and run the cell below. Those are the ones used in our project."
   ]
  },
  {
   "cell_type": "code",
   "id": "19176fbe66926744",
   "metadata": {
    "ExecuteTime": {
     "end_time": "2025-02-01T23:02:26.829259Z",
     "start_time": "2025-02-01T23:02:26.822077Z"
    }
   },
   "source": [
    "#!pip install pandas\n"
   ],
   "outputs": [],
   "execution_count": 262
  },
  {
   "cell_type": "markdown",
   "id": "be16b65f9fb4d62a",
   "metadata": {},
   "source": [
    "Importing libraries."
   ]
  },
  {
   "cell_type": "code",
   "id": "643253c38435625c",
   "metadata": {
    "ExecuteTime": {
     "end_time": "2025-02-01T23:02:27.138620Z",
     "start_time": "2025-02-01T23:02:27.135366Z"
    }
   },
   "source": [
    "import pandas as pd\n",
    "import numpy as np\n",
    "import matplotlib.pyplot as plt\n",
    "import warnings"
   ],
   "outputs": [],
   "execution_count": 263
  },
  {
   "cell_type": "code",
   "id": "bff5bc1cac92f318",
   "metadata": {
    "ExecuteTime": {
     "end_time": "2025-02-01T23:02:27.620420Z",
     "start_time": "2025-02-01T23:02:27.336143Z"
    }
   },
   "source": [
    "import DataReader as rd\n",
    "import importlib\n",
    "importlib.reload(rd)\n",
    "warnings.filterwarnings(\"ignore\", category=UserWarning, module=\"openpyxl\")\n",
    "\n",
    "reader = rd.DataReader()\n",
    "data = reader.ReadData()\n"
   ],
   "outputs": [
    {
     "name": "stdout",
     "output_type": "stream",
     "text": [
      "Base path: /Users/jakubmichalski/IES/Volatility-project\n",
      "Loaded VIX from VIX_History.csv\n",
      "Loaded SOFR from SOFR.xlsx\n",
      "Loaded GDP from GDP.xlsx\n",
      "Loaded GNI from GNI.xlsx\n",
      "Loaded GNP from GNP.xlsx\n",
      "Loaded Unemployment from Unemployment.xlsx\n",
      "Loaded CPI from CPI.xlsx\n",
      "Loaded PPI from PPI.xlsx\n"
     ]
    }
   ],
   "execution_count": 264
  },
  {
   "cell_type": "code",
   "id": "fd70009cd1c1e042",
   "metadata": {
    "ExecuteTime": {
     "end_time": "2025-02-01T23:02:27.628723Z",
     "start_time": "2025-02-01T23:02:27.624924Z"
    }
   },
   "source": [
    "import DataPreprocessor as dp\n",
    "#potom importlib odstranit\n",
    "importlib.reload(dp)\n",
    "\n",
    "dataPreprocessor = dp.DataPreprocessor(data)\n",
    "\"\"\"\n",
    "\"VIX\": (\"VIX_History.csv\", \"DATE\"),\n",
    "                \"TenYear\": (\"10y.xlsx\", \"Date\"),\n",
    "                \"SOFR\": (\"SOFR.xlsx\", \"Effective Date\"),\n",
    "                \"GDP\": (\"GDP.xlsx\", \"GDP Final*\"),\n",
    "                \"GNI\": (\"GNI.xlsx\", \"Period\"),\n",
    "                \"GNP\": (\"GNP.xlsx\", \"Period\"),\n",
    "                \"Unemployment\": (\"Unemployment.xlsx\", \"Original Release Date\"),\n",
    "                \"CPI\": (\"CPI.xlsx\", \"Original Release Date\"),\n",
    "                \"PPI\n",
    "                \"\"\""
   ],
   "outputs": [
    {
     "data": {
      "text/plain": [
       "'\\n\"VIX\": (\"VIX_History.csv\", \"DATE\"),\\n                \"TenYear\": (\"10y.xlsx\", \"Date\"),\\n                \"SOFR\": (\"SOFR.xlsx\", \"Effective Date\"),\\n                \"GDP\": (\"GDP.xlsx\", \"GDP Final*\"),\\n                \"GNI\": (\"GNI.xlsx\", \"Period\"),\\n                \"GNP\": (\"GNP.xlsx\", \"Period\"),\\n                \"Unemployment\": (\"Unemployment.xlsx\", \"Original Release Date\"),\\n                \"CPI\": (\"CPI.xlsx\", \"Original Release Date\"),\\n                \"PPI\\n                '"
      ]
     },
     "execution_count": 265,
     "metadata": {},
     "output_type": "execute_result"
    }
   ],
   "execution_count": 265
  },
  {
   "cell_type": "code",
   "id": "1c23e0485a0434b1",
   "metadata": {
    "ExecuteTime": {
     "end_time": "2025-02-01T23:02:28.104347Z",
     "start_time": "2025-02-01T23:02:28.092373Z"
    }
   },
   "source": [
    "dataPreprocessor.SetSameInterval()"
   ],
   "outputs": [
    {
     "name": "stdout",
     "output_type": "stream",
     "text": [
      "🔍 Unemployment Columns: ['Period', 'First Release', 'Date']\n",
      "✅ Unemployment data cleaned, sorted, resampled, and interpolated successfully!\n",
      "            Unemployment_Rate\n",
      "Date                         \n",
      "2015-01-01                5.7\n",
      "2015-02-01                5.5\n",
      "2015-03-01                5.5\n",
      "2015-04-01                5.4\n",
      "2015-05-01                5.5\n"
     ]
    }
   ],
   "execution_count": 266
  },
  {
   "cell_type": "code",
   "id": "f85ac93917504a44",
   "metadata": {
    "ExecuteTime": {
     "end_time": "2025-02-01T23:02:16.117087Z",
     "start_time": "2025-02-01T23:02:16.114847Z"
    }
   },
   "source": "",
   "outputs": [],
   "execution_count": null
  },
  {
   "cell_type": "code",
   "id": "a15e377e1693ddd",
   "metadata": {
    "ExecuteTime": {
     "end_time": "2025-02-01T23:02:06.313918Z",
     "start_time": "2025-02-01T23:02:06.312522Z"
    }
   },
   "source": [],
   "outputs": [],
   "execution_count": null
  },
  {
   "cell_type": "code",
   "id": "ee7db3f5cd265c7a",
   "metadata": {
    "ExecuteTime": {
     "end_time": "2025-02-01T23:02:06.443200Z",
     "start_time": "2025-02-01T23:02:06.441758Z"
    }
   },
   "source": [],
   "outputs": [],
   "execution_count": null
  },
  {
   "cell_type": "code",
   "id": "325bd64bdfa07f4c",
   "metadata": {
    "ExecuteTime": {
     "end_time": "2025-02-01T22:48:40.169246Z",
     "start_time": "2025-02-01T22:48:40.167129Z"
    }
   },
   "source": [],
   "outputs": [],
   "execution_count": null
  },
  {
   "metadata": {},
   "cell_type": "code",
   "outputs": [],
   "execution_count": null,
   "source": "",
   "id": "d5617c6bcc3e628d"
  }
 ],
 "metadata": {
  "kernelspec": {
   "display_name": "Python 3 (ipykernel)",
   "language": "python",
   "name": "python3"
  },
  "language_info": {
   "codemirror_mode": {
    "name": "ipython",
    "version": 3
   },
   "file_extension": ".py",
   "mimetype": "text/x-python",
   "name": "python",
   "nbconvert_exporter": "python",
   "pygments_lexer": "ipython3",
   "version": "3.12.4"
  }
 },
 "nbformat": 4,
 "nbformat_minor": 5
}

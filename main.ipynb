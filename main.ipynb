{
 "cells": [
  {
   "metadata": {},
   "cell_type": "markdown",
   "source": "# Volatility Project by Jakub and Timotej",
   "id": "efcee40faf7990de"
  },
  {
   "metadata": {},
   "cell_type": "markdown",
   "source": "If you need to install any of those libraries, just uncomment and run the cell below. Those are the ones used in our project.",
   "id": "c750e97b2830bfd2"
  },
  {
   "metadata": {
    "ExecuteTime": {
     "end_time": "2025-01-23T22:18:16.684710Z",
     "start_time": "2025-01-23T22:18:16.679432Z"
    }
   },
   "cell_type": "code",
   "source": "#!pip install pandas\n",
   "id": "19176fbe66926744",
   "outputs": [],
   "execution_count": 21
  },
  {
   "metadata": {},
   "cell_type": "markdown",
   "source": "Importing libraries.",
   "id": "be16b65f9fb4d62a"
  },
  {
   "metadata": {
    "ExecuteTime": {
     "end_time": "2025-01-23T22:18:17.401183Z",
     "start_time": "2025-01-23T22:18:17.398560Z"
    }
   },
   "cell_type": "code",
   "source": [
    "import pandas as pd\n",
    "import numpy as np\n",
    "import matplotlib.pyplot as plt\n",
    "import warnings"
   ],
   "id": "643253c38435625c",
   "outputs": [],
   "execution_count": 22
  },
  {
   "metadata": {
    "ExecuteTime": {
     "end_time": "2025-01-23T22:18:36.407793Z",
     "start_time": "2025-01-23T22:18:36.148278Z"
    }
   },
   "cell_type": "code",
   "source": [
    "import DataReader as rd\n",
    "warnings.filterwarnings(\"ignore\", category=UserWarning, module=\"openpyxl\")\n",
    "\n",
    "reader = rd.DataReader()\n",
    "data = reader.ReadData()\n",
    "#print(data[\"VIX\"].head())"
   ],
   "id": "bff5bc1cac92f318",
   "outputs": [
    {
     "name": "stdout",
     "output_type": "stream",
     "text": [
      "Base path for data files: /Users/jakubmichalski/IES/Volatility-project\n",
      "Loaded VIX from VIX_History.csv\n",
      "Loaded TenYear from 10y.xlsx\n",
      "Loaded SOFR from SOFR.xlsx\n",
      "Loaded GDP from GDP.xlsx\n",
      "Loaded GNI from GNI.xlsx\n",
      "Loaded GNP from GNP.xlsx\n",
      "Loaded Unemployment from Unemployment.xlsx\n",
      "Loaded CPI from CPI.xlsx\n",
      "Loaded PPI from PPI.xlsx\n"
     ]
    }
   ],
   "execution_count": 24
  },
  {
   "metadata": {},
   "cell_type": "code",
   "source": "",
   "id": "fd70009cd1c1e042",
   "outputs": [],
   "execution_count": null
  },
  {
   "metadata": {},
   "cell_type": "code",
   "source": "",
   "id": "1c23e0485a0434b1",
   "outputs": [],
   "execution_count": null
  }
 ],
 "metadata": {
  "kernelspec": {
   "display_name": "Python 3",
   "language": "python",
   "name": "python3"
  },
  "language_info": {
   "codemirror_mode": {
    "name": "ipython",
    "version": 2
   },
   "file_extension": ".py",
   "mimetype": "text/x-python",
   "name": "python",
   "nbconvert_exporter": "python",
   "pygments_lexer": "ipython2",
   "version": "2.7.6"
  }
 },
 "nbformat": 4,
 "nbformat_minor": 5
}

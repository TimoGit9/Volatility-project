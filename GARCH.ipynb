{
 "cells": [
  {
   "cell_type": "code",
   "execution_count": 1,
   "id": "0d1d0c95-3129-43fd-bf17-85c19c936f4e",
   "metadata": {},
   "outputs": [
    {
     "name": "stdout",
     "output_type": "stream",
     "text": [
      "Requirement already satisfied: arch in c:\\users\\tcern\\anaconda3\\lib\\site-packages (7.2.0)\n",
      "Requirement already satisfied: numpy>=1.22.3 in c:\\users\\tcern\\anaconda3\\lib\\site-packages (from arch) (1.26.4)\n",
      "Requirement already satisfied: scipy>=1.8 in c:\\users\\tcern\\anaconda3\\lib\\site-packages (from arch) (1.13.1)\n",
      "Requirement already satisfied: pandas>=1.4 in c:\\users\\tcern\\anaconda3\\lib\\site-packages (from arch) (2.2.2)\n",
      "Requirement already satisfied: statsmodels>=0.12 in c:\\users\\tcern\\anaconda3\\lib\\site-packages (from arch) (0.14.2)\n",
      "Requirement already satisfied: python-dateutil>=2.8.2 in c:\\users\\tcern\\anaconda3\\lib\\site-packages (from pandas>=1.4->arch) (2.9.0.post0)\n",
      "Requirement already satisfied: pytz>=2020.1 in c:\\users\\tcern\\anaconda3\\lib\\site-packages (from pandas>=1.4->arch) (2024.1)\n",
      "Requirement already satisfied: tzdata>=2022.7 in c:\\users\\tcern\\anaconda3\\lib\\site-packages (from pandas>=1.4->arch) (2023.3)\n",
      "Requirement already satisfied: patsy>=0.5.6 in c:\\users\\tcern\\anaconda3\\lib\\site-packages (from statsmodels>=0.12->arch) (0.5.6)\n",
      "Requirement already satisfied: packaging>=21.3 in c:\\users\\tcern\\anaconda3\\lib\\site-packages (from statsmodels>=0.12->arch) (23.2)\n",
      "Requirement already satisfied: six in c:\\users\\tcern\\anaconda3\\lib\\site-packages (from patsy>=0.5.6->statsmodels>=0.12->arch) (1.16.0)\n",
      "Note: you may need to restart the kernel to use updated packages.\n"
     ]
    }
   ],
   "source": [
    "pip install arch"
   ]
  },
  {
   "cell_type": "code",
   "execution_count": null,
   "id": "3d20fee3-10d9-419d-bfc3-804aeda0407c",
   "metadata": {},
   "outputs": [],
   "source": [
    "df = dataset.copy()"
   ]
  },
  {
   "cell_type": "code",
   "execution_count": 3,
   "id": "a77d8d24-dc83-413e-b180-004e082fde00",
   "metadata": {},
   "outputs": [],
   "source": [
    "from arch import arch_model"
   ]
  },
  {
   "cell_type": "code",
   "execution_count": 5,
   "id": "d09194e7-c8cd-42ec-ba15-e55fa58d85c0",
   "metadata": {},
   "outputs": [],
   "source": [
    "#GARCHmodel\n",
    "def garchmodel(df, col):\n",
    "    model = arch_model(df[col], vol='Garch', p=1, q=1, mean='Zero', dist='normal')\n",
    "    garch_result = model.fit(disp='off')\n",
    "    print(garch_result.summary())"
   ]
  },
  {
   "cell_type": "code",
   "execution_count": null,
   "id": "f07ca8c6-ee76-4a28-a850-d3ace1a99cbb",
   "metadata": {},
   "outputs": [],
   "source": [
    "garchmodel(df, \"GDP_Final\")"
   ]
  }
 ],
 "metadata": {
  "kernelspec": {
   "display_name": "Python 3 (ipykernel)",
   "language": "python",
   "name": "python3"
  },
  "language_info": {
   "codemirror_mode": {
    "name": "ipython",
    "version": 3
   },
   "file_extension": ".py",
   "mimetype": "text/x-python",
   "name": "python",
   "nbconvert_exporter": "python",
   "pygments_lexer": "ipython3",
   "version": "3.12.4"
  }
 },
 "nbformat": 4,
 "nbformat_minor": 5
}
